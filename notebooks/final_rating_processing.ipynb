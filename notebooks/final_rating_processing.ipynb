{
 "cells": [
  {
   "cell_type": "code",
   "execution_count": 1,
   "metadata": {},
   "outputs": [],
   "source": [
    "import pandas as pd\n",
    "import numpy as np\n",
    "import re, os\n",
    "from pathlib import Path\n",
    "from tqdm import tqdm\n",
    "import pyarrow as pa\n",
    "import pyarrow.parquet as pq\n",
    "from pathlib import Path"
   ]
  },
  {
   "cell_type": "markdown",
   "metadata": {},
   "source": [
    "In bash run ```$ cat *.txt>>combined.txt``` to concatenate all movie rating files into one"
   ]
  },
  {
   "cell_type": "code",
   "execution_count": 2,
   "metadata": {},
   "outputs": [],
   "source": [
    "rating_file = Path('../data/raw/combined.txt')"
   ]
  },
  {
   "cell_type": "code",
   "execution_count": 4,
   "metadata": {},
   "outputs": [],
   "source": [
    "with open(rating_file,'r',encoding='utf-8',errors='ignore') as f:\n",
    "    data = f.readlines()"
   ]
  },
  {
   "cell_type": "code",
   "execution_count": 5,
   "metadata": {},
   "outputs": [
    {
     "data": {
      "text/plain": [
       "100498277"
      ]
     },
     "execution_count": 5,
     "metadata": {},
     "output_type": "execute_result"
    }
   ],
   "source": [
    "len(data)"
   ]
  },
  {
   "cell_type": "code",
   "execution_count": 6,
   "metadata": {},
   "outputs": [
    {
     "name": "stderr",
     "output_type": "stream",
     "text": [
      "100%|██████████| 100498277/100498277 [04:20<00:00, 385081.62it/s]\n"
     ]
    }
   ],
   "source": [
    "rating_data=[]\n",
    "for i,d in tqdm(enumerate(data),total=len(data)):\n",
    "    d=d.strip()\n",
    "    f=re.search('\\d+:',d)\n",
    "    if f is not None:\n",
    "        movie = d[:-1]\n",
    "        continue\n",
    "    rating=d.split(',')\n",
    "    rating_data.append((movie,*rating))\n",
    "rating_df = pd.DataFrame(rating_data,columns=['movie_id','user_id','rating','date'])"
   ]
  },
  {
   "cell_type": "code",
   "execution_count": 7,
   "metadata": {},
   "outputs": [
    {
     "data": {
      "text/html": [
       "<div>\n",
       "<style scoped>\n",
       "    .dataframe tbody tr th:only-of-type {\n",
       "        vertical-align: middle;\n",
       "    }\n",
       "\n",
       "    .dataframe tbody tr th {\n",
       "        vertical-align: top;\n",
       "    }\n",
       "\n",
       "    .dataframe thead th {\n",
       "        text-align: right;\n",
       "    }\n",
       "</style>\n",
       "<table border=\"1\" class=\"dataframe\">\n",
       "  <thead>\n",
       "    <tr style=\"text-align: right;\">\n",
       "      <th></th>\n",
       "      <th>movie_id</th>\n",
       "      <th>user_id</th>\n",
       "      <th>rating</th>\n",
       "      <th>date</th>\n",
       "    </tr>\n",
       "  </thead>\n",
       "  <tbody>\n",
       "    <tr>\n",
       "      <th>0</th>\n",
       "      <td>1</td>\n",
       "      <td>1488844</td>\n",
       "      <td>3</td>\n",
       "      <td>2005-09-06</td>\n",
       "    </tr>\n",
       "    <tr>\n",
       "      <th>1</th>\n",
       "      <td>1</td>\n",
       "      <td>822109</td>\n",
       "      <td>5</td>\n",
       "      <td>2005-05-13</td>\n",
       "    </tr>\n",
       "    <tr>\n",
       "      <th>2</th>\n",
       "      <td>1</td>\n",
       "      <td>885013</td>\n",
       "      <td>4</td>\n",
       "      <td>2005-10-19</td>\n",
       "    </tr>\n",
       "    <tr>\n",
       "      <th>3</th>\n",
       "      <td>1</td>\n",
       "      <td>30878</td>\n",
       "      <td>4</td>\n",
       "      <td>2005-12-26</td>\n",
       "    </tr>\n",
       "    <tr>\n",
       "      <th>4</th>\n",
       "      <td>1</td>\n",
       "      <td>823519</td>\n",
       "      <td>3</td>\n",
       "      <td>2004-05-03</td>\n",
       "    </tr>\n",
       "  </tbody>\n",
       "</table>\n",
       "</div>"
      ],
      "text/plain": [
       "  movie_id  user_id rating        date\n",
       "0        1  1488844      3  2005-09-06\n",
       "1        1   822109      5  2005-05-13\n",
       "2        1   885013      4  2005-10-19\n",
       "3        1    30878      4  2005-12-26\n",
       "4        1   823519      3  2004-05-03"
      ]
     },
     "execution_count": 7,
     "metadata": {},
     "output_type": "execute_result"
    }
   ],
   "source": [
    "rating_df.head()"
   ]
  },
  {
   "cell_type": "code",
   "execution_count": 9,
   "metadata": {},
   "outputs": [],
   "source": [
    "movie_count = rating_df.groupby('movie_id')['rating'].count()"
   ]
  },
  {
   "cell_type": "code",
   "execution_count": 10,
   "metadata": {},
   "outputs": [],
   "source": [
    "user_count = rating_df.groupby('user_id')['rating'].count()"
   ]
  },
  {
   "cell_type": "code",
   "execution_count": 18,
   "metadata": {},
   "outputs": [
    {
     "data": {
      "text/plain": [
       "user_id\n",
       "305344     17653\n",
       "387418     17436\n",
       "2439493    16565\n",
       "1664010    15813\n",
       "2118461    14831\n",
       "           ...  \n",
       "2304247     1102\n",
       "2170242     1102\n",
       "2337776     1102\n",
       "2170243     1102\n",
       "54333       1102\n",
       "Name: rating, Length: 10000, dtype: int64"
      ]
     },
     "execution_count": 18,
     "metadata": {},
     "output_type": "execute_result"
    }
   ],
   "source": [
    "user_count.sort_values(ascending=False)[:10000]"
   ]
  },
  {
   "cell_type": "code",
   "execution_count": 27,
   "metadata": {},
   "outputs": [
    {
     "data": {
      "text/plain": [
       "movie_id\n",
       "5317     232944\n",
       "15124    216596\n",
       "14313    200832\n",
       "15205    196397\n",
       "1905     193941\n",
       "          ...  \n",
       "17424     26061\n",
       "1682      25961\n",
       "10080     25954\n",
       "9433      25905\n",
       "8818      25873\n",
       "Name: rating, Length: 1000, dtype: int64"
      ]
     },
     "execution_count": 27,
     "metadata": {},
     "output_type": "execute_result"
    }
   ],
   "source": [
    "movie_count.sort_values(ascending=False)[:1000]"
   ]
  },
  {
   "cell_type": "code",
   "execution_count": 21,
   "metadata": {},
   "outputs": [],
   "source": [
    "sl_movies = movie_count.sort_values(ascending=False)[:1000].index"
   ]
  },
  {
   "cell_type": "code",
   "execution_count": 26,
   "metadata": {},
   "outputs": [
    {
     "data": {
      "text/plain": [
       "user_id\n",
       "716173     998\n",
       "387418     996\n",
       "2439493    990\n",
       "2606799    989\n",
       "1314869    988\n",
       "          ... \n",
       "1984604    569\n",
       "1409759    569\n",
       "1725635    569\n",
       "1671431    569\n",
       "2075525    569\n",
       "Name: rating, Length: 10000, dtype: int64"
      ]
     },
     "execution_count": 26,
     "metadata": {},
     "output_type": "execute_result"
    }
   ],
   "source": [
    "rating_df[rating_df.movie_id.isin(sl_movies)].groupby('user_id')['rating'].count().sort_values(ascending=False)[:10000]"
   ]
  },
  {
   "cell_type": "code",
   "execution_count": 30,
   "metadata": {},
   "outputs": [],
   "source": [
    "sl_users = user_count.sort_values(ascending=False)[:10000].index"
   ]
  },
  {
   "cell_type": "code",
   "execution_count": 34,
   "metadata": {},
   "outputs": [],
   "source": [
    "sl_movies = rating_df[rating_df.user_id.isin(sl_users)].groupby('movie_id')['rating'].count().sort_values(ascending=False)[:1000].index"
   ]
  },
  {
   "cell_type": "code",
   "execution_count": 35,
   "metadata": {},
   "outputs": [],
   "source": [
    "df = rating_df[rating_df.user_id.isin(sl_users) & rating_df.movie_id.isin(sl_movies)]"
   ]
  },
  {
   "cell_type": "code",
   "execution_count": 36,
   "metadata": {},
   "outputs": [
    {
     "data": {
      "text/html": [
       "<div>\n",
       "<style scoped>\n",
       "    .dataframe tbody tr th:only-of-type {\n",
       "        vertical-align: middle;\n",
       "    }\n",
       "\n",
       "    .dataframe tbody tr th {\n",
       "        vertical-align: top;\n",
       "    }\n",
       "\n",
       "    .dataframe thead th {\n",
       "        text-align: right;\n",
       "    }\n",
       "</style>\n",
       "<table border=\"1\" class=\"dataframe\">\n",
       "  <thead>\n",
       "    <tr style=\"text-align: right;\">\n",
       "      <th></th>\n",
       "      <th>movie_id</th>\n",
       "      <th>user_id</th>\n",
       "      <th>rating</th>\n",
       "      <th>date</th>\n",
       "    </tr>\n",
       "  </thead>\n",
       "  <tbody>\n",
       "    <tr>\n",
       "      <th>52525</th>\n",
       "      <td>28</td>\n",
       "      <td>1990901</td>\n",
       "      <td>5</td>\n",
       "      <td>2004-02-16</td>\n",
       "    </tr>\n",
       "    <tr>\n",
       "      <th>52528</th>\n",
       "      <td>28</td>\n",
       "      <td>765331</td>\n",
       "      <td>3</td>\n",
       "      <td>2003-03-20</td>\n",
       "    </tr>\n",
       "    <tr>\n",
       "      <th>52529</th>\n",
       "      <td>28</td>\n",
       "      <td>1987434</td>\n",
       "      <td>4</td>\n",
       "      <td>2005-07-14</td>\n",
       "    </tr>\n",
       "    <tr>\n",
       "      <th>52532</th>\n",
       "      <td>28</td>\n",
       "      <td>2193455</td>\n",
       "      <td>4</td>\n",
       "      <td>2005-01-19</td>\n",
       "    </tr>\n",
       "    <tr>\n",
       "      <th>52533</th>\n",
       "      <td>28</td>\n",
       "      <td>1468812</td>\n",
       "      <td>4</td>\n",
       "      <td>2003-01-14</td>\n",
       "    </tr>\n",
       "  </tbody>\n",
       "</table>\n",
       "</div>"
      ],
      "text/plain": [
       "      movie_id  user_id rating        date\n",
       "52525       28  1990901      5  2004-02-16\n",
       "52528       28   765331      3  2003-03-20\n",
       "52529       28  1987434      4  2005-07-14\n",
       "52532       28  2193455      4  2005-01-19\n",
       "52533       28  1468812      4  2003-01-14"
      ]
     },
     "execution_count": 36,
     "metadata": {},
     "output_type": "execute_result"
    }
   ],
   "source": [
    "df.head()"
   ]
  },
  {
   "cell_type": "code",
   "execution_count": 37,
   "metadata": {},
   "outputs": [
    {
     "data": {
      "text/plain": [
       "(6491181, 4)"
      ]
     },
     "execution_count": 37,
     "metadata": {},
     "output_type": "execute_result"
    }
   ],
   "source": [
    "df.shape"
   ]
  },
  {
   "cell_type": "code",
   "execution_count": 38,
   "metadata": {},
   "outputs": [],
   "source": [
    "table = pa.Table.from_pandas(df)"
   ]
  },
  {
   "cell_type": "code",
   "execution_count": 39,
   "metadata": {},
   "outputs": [],
   "source": [
    "pq.write_table(table, 'sl_rating.parquet')"
   ]
  },
  {
   "cell_type": "code",
   "execution_count": null,
   "metadata": {},
   "outputs": [],
   "source": []
  }
 ],
 "metadata": {
  "kernelspec": {
   "display_name": "Python 3",
   "language": "python",
   "name": "python3"
  },
  "language_info": {
   "codemirror_mode": {
    "name": "ipython",
    "version": 3
   },
   "file_extension": ".py",
   "mimetype": "text/x-python",
   "name": "python",
   "nbconvert_exporter": "python",
   "pygments_lexer": "ipython3",
   "version": "3.6.12"
  }
 },
 "nbformat": 4,
 "nbformat_minor": 4
}
